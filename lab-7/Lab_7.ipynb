{
 "cells": [
  {
   "cell_type": "code",
   "execution_count": 42,
   "id": "4f4e9c2b-9868-4329-a870-ebf1a4c367b0",
   "metadata": {
    "tags": []
   },
   "outputs": [],
   "source": [
    "from sklearn.datasets import load_files\n",
    "from sklearn.feature_extraction.text import CountVectorizer, TfidfVectorizer\n",
    "from sklearn.pipeline import make_pipeline\n",
    "from sklearn.linear_model import LogisticRegression\n",
    "from sklearn.model_selection import GridSearchCV\n",
    "from sklearn.metrics import accuracy_score, confusion_matrix, classification_report\n",
    "from sklearn.feature_extraction.text import ENGLISH_STOP_WORDS\n",
    "from nltk.corpus import stopwords\n",
    "\n",
    "import mglearn\n",
    "import numpy as np\n",
    "import pandas as pd\n",
    "import matplotlib.pyplot as plt\n",
    "import seaborn as sns"
   ]
  },
  {
   "cell_type": "markdown",
   "id": "08c1214e-b520-44fa-bbbd-faef4bf3d343",
   "metadata": {},
   "source": [
    "<h3>Задание №2</h3>"
   ]
  },
  {
   "cell_type": "markdown",
   "id": "31e2db89-8dd8-4dc3-8b79-b1b4b66624b3",
   "metadata": {},
   "source": [
    "Создайте свой «мешок слов», например, набор из 20-25 отзывов о чем-либо, напишите краткое пояснение к данным."
   ]
  },
  {
   "cell_type": "code",
   "execution_count": 43,
   "id": "b7dadca6-1783-453d-a24d-d428545f88ec",
   "metadata": {
    "tags": []
   },
   "outputs": [],
   "source": [
    "# Отзывы на английском языке\n",
    "reviews_train_eng = load_files('reviews/train/')\n",
    "reviews_test_eng = load_files('reviews/test/')\n",
    "\n",
    "# Декодирование в формат utf-8 для корректной обработки\n",
    "text_train_eng = [item.decode('utf-8') for item in reviews_train_eng.data]\n",
    "y_train_eng = reviews_train_eng.target\n",
    "\n",
    "text_test_eng = [item.decode('utf-8') for item in reviews_test_eng.data]\n",
    "y_test_eng = reviews_test_eng.target"
   ]
  },
  {
   "cell_type": "markdown",
   "id": "97ed562f-4790-4508-a6d0-6c2374cbd6a0",
   "metadata": {
    "tags": []
   },
   "source": [
    "<h4>Создание мешка слов</h4>"
   ]
  },
  {
   "cell_type": "markdown",
   "id": "c0764111-43db-46e6-9609-68504a6d94a5",
   "metadata": {},
   "source": [
    "Поскольку количество отзывов мало, я не стал ограничивать количество токенов параметром min_df"
   ]
  },
  {
   "cell_type": "code",
   "execution_count": 44,
   "id": "19657843-fe1c-43c9-ab1f-87252b9d9a7b",
   "metadata": {
    "tags": []
   },
   "outputs": [],
   "source": [
    "count_vectorizer_eng = CountVectorizer()\n",
    "count_vectorizer_eng.fit(text_train_eng)\n",
    "\n",
    "X_train_eng = count_vectorizer_eng.transform(text_train_eng)\n"
   ]
  },
  {
   "cell_type": "markdown",
   "id": "13a540d7-b975-4623-bee1-bcb73c137565",
   "metadata": {
    "tags": []
   },
   "source": [
    "<h4>Размерность мешка слов</h4>"
   ]
  },
  {
   "cell_type": "code",
   "execution_count": 45,
   "id": "e8720032-7df9-4d66-a5b7-9ac9377ebc82",
   "metadata": {
    "tags": []
   },
   "outputs": [
    {
     "name": "stdout",
     "output_type": "stream",
     "text": [
      "(20, 174) - eng\n"
     ]
    }
   ],
   "source": [
    "print('{} - eng'.format(X_train_eng.shape))"
   ]
  },
  {
   "cell_type": "markdown",
   "id": "eab9e30c-d317-4f51-9f88-cc3b5f673d88",
   "metadata": {},
   "source": [
    "<h4>Исследование признаков</h4>"
   ]
  },
  {
   "cell_type": "code",
   "execution_count": 46,
   "id": "2e8e6a97-3f90-410c-975a-e37f7e22bad2",
   "metadata": {
    "tags": []
   },
   "outputs": [],
   "source": [
    "feature_names_eng = count_vectorizer_eng.get_feature_names_out()"
   ]
  },
  {
   "cell_type": "markdown",
   "id": "eea5402f-c290-44da-96c9-25005880523a",
   "metadata": {
    "tags": []
   },
   "source": [
    "<h4>Первые 10 признаков</h4>"
   ]
  },
  {
   "cell_type": "code",
   "execution_count": 47,
   "id": "ef9ebc31-73ad-4fbd-a3a6-7a55cf6ef4f5",
   "metadata": {
    "tags": []
   },
   "outputs": [
    {
     "name": "stdout",
     "output_type": "stream",
     "text": [
      "['action' 'adds' 'adrenaline' 'affecting' 'alienate' 'amidst' 'amplifying'\n",
      " 'an' 'and' 'are']\n"
     ]
    }
   ],
   "source": [
    "print(feature_names_eng[:10])"
   ]
  },
  {
   "cell_type": "markdown",
   "id": "ddea32ae-db2d-40da-8c0d-16961737a3e8",
   "metadata": {
    "tags": []
   },
   "source": [
    "<h4>Последние 10 признаков</h4>"
   ]
  },
  {
   "cell_type": "code",
   "execution_count": 48,
   "id": "e4d53feb-5769-4103-8db5-7a0d75db80d8",
   "metadata": {
    "tags": []
   },
   "outputs": [
    {
     "name": "stdout",
     "output_type": "stream",
     "text": [
      "['throughout' 'tighter' 'times' 'to' 'tone' 'universe' 'viewers' 'visual'\n",
      " 'while' 'wide' 'with']\n"
     ]
    }
   ],
   "source": [
    "print(feature_names_eng[-11:])"
   ]
  },
  {
   "cell_type": "markdown",
   "id": "a9ef22c3-cb4e-450e-a4cc-185d30a1cd2a",
   "metadata": {},
   "source": [
    "<h3>Задание №3</h3>"
   ]
  },
  {
   "cell_type": "markdown",
   "id": "9dd2bf8a-1465-46ce-b961-b7ee2b923a4a",
   "metadata": {},
   "source": [
    "Создайте словарь стоп-слов, примените стоп-слова к своему «мешку слов»"
   ]
  },
  {
   "cell_type": "markdown",
   "id": "f4313df2-ee0c-43be-941c-40cca0e742d6",
   "metadata": {
    "tags": []
   },
   "source": [
    "**Для применения стоп слов для русского языка необходимо установить библиотеку nltk**"
   ]
  },
  {
   "cell_type": "code",
   "execution_count": 49,
   "id": "bc3b9dc2",
   "metadata": {},
   "outputs": [
    {
     "name": "stderr",
     "output_type": "stream",
     "text": [
      "[nltk_data] Downloading package stopwords to\n",
      "[nltk_data]     C:\\Users\\ASUS\\AppData\\Roaming\\nltk_data...\n",
      "[nltk_data]   Package stopwords is already up-to-date!\n"
     ]
    },
    {
     "data": {
      "text/plain": [
       "True"
      ]
     },
     "execution_count": 49,
     "metadata": {},
     "output_type": "execute_result"
    }
   ],
   "source": [
    "import nltk\n",
    "nltk.download('stopwords')"
   ]
  },
  {
   "cell_type": "code",
   "execution_count": 50,
   "id": "f3bd02f6-158e-46bc-82cf-7601c4955a98",
   "metadata": {
    "tags": []
   },
   "outputs": [
    {
     "name": "stdout",
     "output_type": "stream",
     "text": [
      "Размерность мешка слов (eng): (20, 150)\n"
     ]
    }
   ],
   "source": [
    "stop_words_english = set(stopwords.words('english'))\n",
    "\n",
    "count_vectorizer_eng = CountVectorizer(stop_words=list(stop_words_english)) ### Здесь\n",
    "count_vectorizer_eng.fit(text_train_eng)\n",
    "\n",
    "X_train_eng = count_vectorizer_eng.transform(text_train_eng)\n",
    "\n",
    "print('Размерность мешка слов (eng): {}'.format(X_train_eng.shape))"
   ]
  },
  {
   "cell_type": "markdown",
   "id": "55dac265-1edd-4e57-b886-bd157245fdae",
   "metadata": {
    "tags": []
   },
   "source": [
    "Для английского языка количество признаков сократилось с 868 до 759 (109 признаков)"
   ]
  },
  {
   "cell_type": "markdown",
   "id": "76e9c857-d692-40c9-9d54-a182c304f896",
   "metadata": {},
   "source": [
    "<h3>Задание №4</h3>"
   ]
  },
  {
   "cell_type": "markdown",
   "id": "34d14157-7f40-4aff-a7a1-a0dc4c55053b",
   "metadata": {},
   "source": [
    "Масштабируйте данные с помощью tf-idf"
   ]
  },
  {
   "cell_type": "code",
   "execution_count": 51,
   "id": "13db6b62-4efd-4d9f-929c-52e41287f85e",
   "metadata": {
    "tags": []
   },
   "outputs": [
    {
     "data": {
      "text/html": [
       "<style>#sk-container-id-3 {color: black;}#sk-container-id-3 pre{padding: 0;}#sk-container-id-3 div.sk-toggleable {background-color: white;}#sk-container-id-3 label.sk-toggleable__label {cursor: pointer;display: block;width: 100%;margin-bottom: 0;padding: 0.3em;box-sizing: border-box;text-align: center;}#sk-container-id-3 label.sk-toggleable__label-arrow:before {content: \"▸\";float: left;margin-right: 0.25em;color: #696969;}#sk-container-id-3 label.sk-toggleable__label-arrow:hover:before {color: black;}#sk-container-id-3 div.sk-estimator:hover label.sk-toggleable__label-arrow:before {color: black;}#sk-container-id-3 div.sk-toggleable__content {max-height: 0;max-width: 0;overflow: hidden;text-align: left;background-color: #f0f8ff;}#sk-container-id-3 div.sk-toggleable__content pre {margin: 0.2em;color: black;border-radius: 0.25em;background-color: #f0f8ff;}#sk-container-id-3 input.sk-toggleable__control:checked~div.sk-toggleable__content {max-height: 200px;max-width: 100%;overflow: auto;}#sk-container-id-3 input.sk-toggleable__control:checked~label.sk-toggleable__label-arrow:before {content: \"▾\";}#sk-container-id-3 div.sk-estimator input.sk-toggleable__control:checked~label.sk-toggleable__label {background-color: #d4ebff;}#sk-container-id-3 div.sk-label input.sk-toggleable__control:checked~label.sk-toggleable__label {background-color: #d4ebff;}#sk-container-id-3 input.sk-hidden--visually {border: 0;clip: rect(1px 1px 1px 1px);clip: rect(1px, 1px, 1px, 1px);height: 1px;margin: -1px;overflow: hidden;padding: 0;position: absolute;width: 1px;}#sk-container-id-3 div.sk-estimator {font-family: monospace;background-color: #f0f8ff;border: 1px dotted black;border-radius: 0.25em;box-sizing: border-box;margin-bottom: 0.5em;}#sk-container-id-3 div.sk-estimator:hover {background-color: #d4ebff;}#sk-container-id-3 div.sk-parallel-item::after {content: \"\";width: 100%;border-bottom: 1px solid gray;flex-grow: 1;}#sk-container-id-3 div.sk-label:hover label.sk-toggleable__label {background-color: #d4ebff;}#sk-container-id-3 div.sk-serial::before {content: \"\";position: absolute;border-left: 1px solid gray;box-sizing: border-box;top: 0;bottom: 0;left: 50%;z-index: 0;}#sk-container-id-3 div.sk-serial {display: flex;flex-direction: column;align-items: center;background-color: white;padding-right: 0.2em;padding-left: 0.2em;position: relative;}#sk-container-id-3 div.sk-item {position: relative;z-index: 1;}#sk-container-id-3 div.sk-parallel {display: flex;align-items: stretch;justify-content: center;background-color: white;position: relative;}#sk-container-id-3 div.sk-item::before, #sk-container-id-3 div.sk-parallel-item::before {content: \"\";position: absolute;border-left: 1px solid gray;box-sizing: border-box;top: 0;bottom: 0;left: 50%;z-index: -1;}#sk-container-id-3 div.sk-parallel-item {display: flex;flex-direction: column;z-index: 1;position: relative;background-color: white;}#sk-container-id-3 div.sk-parallel-item:first-child::after {align-self: flex-end;width: 50%;}#sk-container-id-3 div.sk-parallel-item:last-child::after {align-self: flex-start;width: 50%;}#sk-container-id-3 div.sk-parallel-item:only-child::after {width: 0;}#sk-container-id-3 div.sk-dashed-wrapped {border: 1px dashed gray;margin: 0 0.4em 0.5em 0.4em;box-sizing: border-box;padding-bottom: 0.4em;background-color: white;}#sk-container-id-3 div.sk-label label {font-family: monospace;font-weight: bold;display: inline-block;line-height: 1.2em;}#sk-container-id-3 div.sk-label-container {text-align: center;}#sk-container-id-3 div.sk-container {/* jupyter's `normalize.less` sets `[hidden] { display: none; }` but bootstrap.min.css set `[hidden] { display: none !important; }` so we also need the `!important` here to be able to override the default hidden behavior on the sphinx rendered scikit-learn.org. See: https://github.com/scikit-learn/scikit-learn/issues/21755 */display: inline-block !important;position: relative;}#sk-container-id-3 div.sk-text-repr-fallback {display: none;}</style><div id=\"sk-container-id-3\" class=\"sk-top-container\"><div class=\"sk-text-repr-fallback\"><pre>GridSearchCV(cv=4,\n",
       "             estimator=Pipeline(steps=[(&#x27;tfidfvectorizer&#x27;,\n",
       "                                        TfidfVectorizer(norm=None)),\n",
       "                                       (&#x27;logisticregression&#x27;,\n",
       "                                        LogisticRegression())]),\n",
       "             param_grid={&#x27;logisticregression__C&#x27;: [0.001, 0.01, 0.1, 1.0, 10.0,\n",
       "                                                   100.0],\n",
       "                         &#x27;logisticregression__max_iter&#x27;: [10000, 20000, 30000],\n",
       "                         &#x27;logisticregression__penalty&#x27;: [&#x27;l1&#x27;, &#x27;l2&#x27;],\n",
       "                         &#x27;logisticregression__solver&#x27;: [&#x27;liblinear&#x27;, &#x27;saga&#x27;],\n",
       "                         &#x27;tfidfvectorizer__ngram_range&#x27;: [(1, 1), (1, 2),\n",
       "                                                          (1, 3)]})</pre><b>In a Jupyter environment, please rerun this cell to show the HTML representation or trust the notebook. <br />On GitHub, the HTML representation is unable to render, please try loading this page with nbviewer.org.</b></div><div class=\"sk-container\" hidden><div class=\"sk-item sk-dashed-wrapped\"><div class=\"sk-label-container\"><div class=\"sk-label sk-toggleable\"><input class=\"sk-toggleable__control sk-hidden--visually\" id=\"sk-estimator-id-9\" type=\"checkbox\" ><label for=\"sk-estimator-id-9\" class=\"sk-toggleable__label sk-toggleable__label-arrow\">GridSearchCV</label><div class=\"sk-toggleable__content\"><pre>GridSearchCV(cv=4,\n",
       "             estimator=Pipeline(steps=[(&#x27;tfidfvectorizer&#x27;,\n",
       "                                        TfidfVectorizer(norm=None)),\n",
       "                                       (&#x27;logisticregression&#x27;,\n",
       "                                        LogisticRegression())]),\n",
       "             param_grid={&#x27;logisticregression__C&#x27;: [0.001, 0.01, 0.1, 1.0, 10.0,\n",
       "                                                   100.0],\n",
       "                         &#x27;logisticregression__max_iter&#x27;: [10000, 20000, 30000],\n",
       "                         &#x27;logisticregression__penalty&#x27;: [&#x27;l1&#x27;, &#x27;l2&#x27;],\n",
       "                         &#x27;logisticregression__solver&#x27;: [&#x27;liblinear&#x27;, &#x27;saga&#x27;],\n",
       "                         &#x27;tfidfvectorizer__ngram_range&#x27;: [(1, 1), (1, 2),\n",
       "                                                          (1, 3)]})</pre></div></div></div><div class=\"sk-parallel\"><div class=\"sk-parallel-item\"><div class=\"sk-item\"><div class=\"sk-label-container\"><div class=\"sk-label sk-toggleable\"><input class=\"sk-toggleable__control sk-hidden--visually\" id=\"sk-estimator-id-10\" type=\"checkbox\" ><label for=\"sk-estimator-id-10\" class=\"sk-toggleable__label sk-toggleable__label-arrow\">estimator: Pipeline</label><div class=\"sk-toggleable__content\"><pre>Pipeline(steps=[(&#x27;tfidfvectorizer&#x27;, TfidfVectorizer(norm=None)),\n",
       "                (&#x27;logisticregression&#x27;, LogisticRegression())])</pre></div></div></div><div class=\"sk-serial\"><div class=\"sk-item\"><div class=\"sk-serial\"><div class=\"sk-item\"><div class=\"sk-estimator sk-toggleable\"><input class=\"sk-toggleable__control sk-hidden--visually\" id=\"sk-estimator-id-11\" type=\"checkbox\" ><label for=\"sk-estimator-id-11\" class=\"sk-toggleable__label sk-toggleable__label-arrow\">TfidfVectorizer</label><div class=\"sk-toggleable__content\"><pre>TfidfVectorizer(norm=None)</pre></div></div></div><div class=\"sk-item\"><div class=\"sk-estimator sk-toggleable\"><input class=\"sk-toggleable__control sk-hidden--visually\" id=\"sk-estimator-id-12\" type=\"checkbox\" ><label for=\"sk-estimator-id-12\" class=\"sk-toggleable__label sk-toggleable__label-arrow\">LogisticRegression</label><div class=\"sk-toggleable__content\"><pre>LogisticRegression()</pre></div></div></div></div></div></div></div></div></div></div></div></div>"
      ],
      "text/plain": [
       "GridSearchCV(cv=4,\n",
       "             estimator=Pipeline(steps=[('tfidfvectorizer',\n",
       "                                        TfidfVectorizer(norm=None)),\n",
       "                                       ('logisticregression',\n",
       "                                        LogisticRegression())]),\n",
       "             param_grid={'logisticregression__C': [0.001, 0.01, 0.1, 1.0, 10.0,\n",
       "                                                   100.0],\n",
       "                         'logisticregression__max_iter': [10000, 20000, 30000],\n",
       "                         'logisticregression__penalty': ['l1', 'l2'],\n",
       "                         'logisticregression__solver': ['liblinear', 'saga'],\n",
       "                         'tfidfvectorizer__ngram_range': [(1, 1), (1, 2),\n",
       "                                                          (1, 3)]})"
      ]
     },
     "execution_count": 51,
     "metadata": {},
     "output_type": "execute_result"
    }
   ],
   "source": [
    "pipe = make_pipeline(TfidfVectorizer(norm=None), LogisticRegression())\n",
    "\n",
    "# Параметры для логистической регрессии\n",
    "param_grid = {\n",
    "    'logisticregression__C': [0.001, 0.01, 0.1, 1.0, 10.0, 100.0],\n",
    "    'logisticregression__penalty': ['l1', 'l2'],\n",
    "    'logisticregression__solver': ['liblinear', 'saga'],\n",
    "    'logisticregression__max_iter': [10000, 20000, 30000],\n",
    "    \n",
    "    'tfidfvectorizer__ngram_range': [(1, 1), (1, 2), (1, 3)]\n",
    "}\n",
    "\n",
    "grid_search_eng = GridSearchCV(pipe, param_grid, cv=4)\n",
    "grid_search_eng.fit(text_train_eng, y_train_eng)"
   ]
  },
  {
   "cell_type": "code",
   "execution_count": 52,
   "id": "2432fe73-af30-4ca0-8e93-620eb4fd8e52",
   "metadata": {
    "tags": []
   },
   "outputs": [
    {
     "name": "stdout",
     "output_type": "stream",
     "text": [
      "Лучший результат (eng): 0.65\n",
      "Лучшие параметры (eng): {'logisticregression__C': 0.1, 'logisticregression__max_iter': 20000, 'logisticregression__penalty': 'l2', 'logisticregression__solver': 'saga', 'tfidfvectorizer__ngram_range': (1, 3)}\n"
     ]
    }
   ],
   "source": [
    "print('Лучший результат (eng): {}'.format(grid_search_eng.best_score_))\n",
    "print('Лучшие параметры (eng): {}'.format(grid_search_eng.best_params_))"
   ]
  },
  {
   "cell_type": "markdown",
   "id": "8dfcce26-49de-44cd-afa8-8a3269e17b77",
   "metadata": {},
   "source": [
    "<h3>Задание №5</h3>"
   ]
  },
  {
   "cell_type": "markdown",
   "id": "2693c0ca-8321-4d75-b6b9-c360fc2ebc3c",
   "metadata": {},
   "source": [
    "Исследуйте коэффициенты модели"
   ]
  },
  {
   "cell_type": "markdown",
   "id": "7d5381ba-2755-4d9f-9e80-c996d0df2719",
   "metadata": {
    "tags": []
   },
   "source": [
    "<h4>Наименее важные признаки</h4>"
   ]
  },
  {
   "cell_type": "code",
   "execution_count": 53,
   "id": "b0411f24-6c19-4a5f-bd77-6c0e0f06ac93",
   "metadata": {
    "tags": []
   },
   "outputs": [
    {
     "name": "stdout",
     "output_type": "stream",
     "text": [
      "                 Feature     Value\n",
      "294      holmes universe -0.026782\n",
      "584         the sherlock -0.026782\n",
      "585  the sherlock holmes -0.026782\n",
      "293               holmes -0.026782\n",
      "592                their -0.032517\n",
      "242                 feel -0.035227\n",
      "384                might -0.036135\n",
      "461           plot might -0.036135\n",
      "460                 plot -0.036135\n",
      "578             the plot -0.036135\n",
      "579       the plot might -0.036135\n",
      "514                 some -0.036298\n",
      "351                 lack -0.036298\n",
      "307               impact -0.036298\n",
      "14       affecting their -0.037986\n",
      "13             affecting -0.037986\n",
      "417         occasionally -0.040169\n",
      "148                could -0.040307\n",
      "442              overall -0.051746\n",
      "102              certain -0.063329\n"
     ]
    }
   ],
   "source": [
    "tfidf_vectorizer = grid_search_eng.best_estimator_.named_steps['tfidfvectorizer']\n",
    "logistic_regression = grid_search_eng.best_estimator_.named_steps['logisticregression']\n",
    "\n",
    "feature_names = np.array(tfidf_vectorizer.get_feature_names_out())\n",
    "coefficients = logistic_regression.coef_.flatten()\n",
    "\n",
    "features_df = pd.DataFrame({'Feature': feature_names, 'Value': coefficients})\n",
    "\n",
    "print(features_df.sort_values(by='Value', ascending=False).tail(20))"
   ]
  },
  {
   "cell_type": "markdown",
   "id": "395d883f-f99e-4aec-a37b-5d7a4a83ed2b",
   "metadata": {},
   "source": [
    "<h4>Наиболее важные признаки</h4>"
   ]
  },
  {
   "cell_type": "code",
   "execution_count": 54,
   "id": "54e019eb-4217-4037-972e-73d8c1f3166a",
   "metadata": {},
   "outputs": [
    {
     "name": "stdout",
     "output_type": "stream",
     "text": [
      "                        Feature     Value\n",
      "488                      sadasd  0.130824\n",
      "31                          and  0.040654\n",
      "212                   enriching  0.039048\n",
      "213               enriching the  0.039048\n",
      "227                  experience  0.035999\n",
      "538                    suspense  0.035992\n",
      "26                           an  0.035571\n",
      "429                  of mystery  0.035471\n",
      "313                          in  0.035471\n",
      "409                     mystery  0.035471\n",
      "574                 the musical  0.023927\n",
      "527            storytelling and  0.023927\n",
      "526                storytelling  0.023927\n",
      "76    beautifully enriching the  0.023927\n",
      "407               musical score  0.023927\n",
      "38                and emotional  0.023927\n",
      "75        beautifully enriching  0.023927\n",
      "39          and emotional depth  0.023927\n",
      "528  storytelling and emotional  0.023927\n",
      "201                   emotional  0.023927\n"
     ]
    }
   ],
   "source": [
    "tfidf_vectorizer = grid_search_eng.best_estimator_.named_steps['tfidfvectorizer']\n",
    "logistic_regression = grid_search_eng.best_estimator_.named_steps['logisticregression']\n",
    "\n",
    "feature_names = np.array(tfidf_vectorizer.get_feature_names_out())\n",
    "coefficients = logistic_regression.coef_.flatten()\n",
    "\n",
    "features_df = pd.DataFrame({'Feature': feature_names, 'Value': coefficients})\n",
    "\n",
    "print(features_df.sort_values(by='Value', ascending=False).head(20))"
   ]
  },
  {
   "cell_type": "markdown",
   "id": "157f26a0-2776-4669-be28-820705af49f9",
   "metadata": {},
   "source": [
    "<h4>Теплокарта для усредненной правильности перекрестной проверки</h4>"
   ]
  },
  {
   "cell_type": "code",
   "execution_count": 55,
   "id": "47dd647a",
   "metadata": {},
   "outputs": [
    {
     "data": {
      "image/png": "[encoded data removed]",
      "text/plain": [
       "<Figure size 640x480 with 2 Axes>"
      ]
     },
     "metadata": {},
     "output_type": "display_data"
    }
   ],
   "source": [
    "heatmap_data_eng = results_eng.pivot_table(index='param_tfidfvectorizer__ngram_range', columns='param_logisticregression__C', values='mean_test_score')\n",
    "prediction_eng = grid_search_eng.predict(text_test_eng)\n",
    "sns.heatmap(heatmap_data_eng, annot=True, fmt=\".3f\", cmap=\"Blues\")\n",
    "plt.title('English')\n",
    "plt.xlabel('C')\n",
    "plt.ylabel('ngram_range')\n",
    "plt.show()\n"
   ]
  },
  {
   "cell_type": "markdown",
   "id": "c8a435c6-62f2-4c9a-a12c-b6a4e82ff54f",
   "metadata": {
    "tags": []
   },
   "source": [
    "<h4>Отчет для модели на английском языке</h4>"
   ]
  },
  {
   "cell_type": "code",
   "execution_count": 56,
   "id": "58262b5d-0634-4321-aab8-89f18221e698",
   "metadata": {
    "tags": []
   },
   "outputs": [
    {
     "name": "stdout",
     "output_type": "stream",
     "text": [
      "              precision    recall  f1-score   support\n",
      "\n",
      "           0       1.00      1.00      1.00        10\n",
      "           1       1.00      1.00      1.00        10\n",
      "\n",
      "    accuracy                           1.00        20\n",
      "   macro avg       1.00      1.00      1.00        20\n",
      "weighted avg       1.00      1.00      1.00        20\n",
      "\n"
     ]
    }
   ],
   "source": [
    "print(classification_report(y_test_eng, prediction_eng, target_names=['0', '1']))"
   ]
  },
  {
   "cell_type": "markdown",
   "id": "8dcd1370-706b-4ad4-b46e-768ad2d02cc5",
   "metadata": {},
   "source": [
    "<h3>Задание №6</h3>"
   ]
  },
  {
   "cell_type": "markdown",
   "id": "008e2550-b210-463a-9a75-69b8c63aa75a",
   "metadata": {},
   "source": [
    "Сделайте выводы по работе."
   ]
  },
  {
   "cell_type": "markdown",
   "id": "b68bd891-ddf1-47f6-86a8-bb6a185c58c0",
   "metadata": {},
   "source": [
    "Согласно отчету и матрице ошибок, модель, обученная на английском языке, показывает удовлетворительные результаты. Она смогла корректно классифицировать все негативные отзывы и положительные.Это говорит о том, что модель обладает хорошей обобщающей способностью и может быть эффективно использована для анализа отзывов на английском языке. Однако, стоит учесть, что для улучшения результатов и повышения точности предсказаний, можно провести дополнительную настройку параметров модели и использовать больший объем данных для обучения."
   ]
  },
  {
   "cell_type": "code",
   "execution_count": null,
   "id": "4380817b-f91a-4c8d-ac95-280852f2ae3d",
   "metadata": {},
   "outputs": [],
   "source": []
  }
 ],
 "metadata": {
  "kernelspec": {
   "display_name": "Python 3 (ipykernel)",
   "language": "python",
   "name": "python3"
  },
  "language_info": {
   "codemirror_mode": {
    "name": "ipython",
    "version": 3
   },
   "file_extension": ".py",
   "mimetype": "text/x-python",
   "name": "python",
   "nbconvert_exporter": "python",
   "pygments_lexer": "ipython3",
   "version": "3.11.7"
  }
 },
 "nbformat": 4,
 "nbformat_minor": 5
}
